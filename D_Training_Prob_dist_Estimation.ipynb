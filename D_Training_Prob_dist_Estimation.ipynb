{
 "cells": [
  {
   "cell_type": "code",
   "execution_count": 1,
   "id": "10559026",
   "metadata": {},
   "outputs": [],
   "source": [
    "# Importing the packages\n",
    "\n",
    "import pandas as pd\n",
    "import numpy as np\n",
    "import scipy.stats as st\n",
    "import seaborn as sn\n",
    "import matplotlib.pyplot as plt"
   ]
  },
  {
   "cell_type": "code",
   "execution_count": 2,
   "id": "6853b58b",
   "metadata": {},
   "outputs": [
    {
     "data": {
      "text/plain": [
       "array([0.125, 0.375, 0.375, 0.125])"
      ]
     },
     "execution_count": 2,
     "metadata": {},
     "output_type": "execute_result"
    }
   ],
   "source": [
    "# Toss a coin 3 times and find the prob of  getting atleat 2 heads\n",
    "\n",
    "n=3\n",
    "p=0.5 # prob of getting head\n",
    "x= np.arange(0,4)\n",
    "pmf = st.binom.pmf(x,n,p)\n",
    "pmf"
   ]
  },
  {
   "cell_type": "code",
   "execution_count": 3,
   "id": "63af6c65",
   "metadata": {},
   "outputs": [
    {
     "data": {
      "text/plain": [
       "<BarContainer object of 4 artists>"
      ]
     },
     "execution_count": 3,
     "metadata": {},
     "output_type": "execute_result"
    },
    {
     "data": {
      "image/png": "[encoded data removed]",
      "text/plain": [
       "<Figure size 432x288 with 1 Axes>"
      ]
     },
     "metadata": {
      "needs_background": "light"
     },
     "output_type": "display_data"
    }
   ],
   "source": [
    "plt.bar(x, pmf)"
   ]
  },
  {
   "cell_type": "code",
   "execution_count": 4,
   "id": "21f6e923",
   "metadata": {},
   "outputs": [
    {
     "data": {
      "text/plain": [
       "array([0.125, 0.5  , 0.875, 1.   ])"
      ]
     },
     "execution_count": 4,
     "metadata": {},
     "output_type": "execute_result"
    }
   ],
   "source": [
    "cdf = st.binom.cdf(x,n,p)\n",
    "cdf"
   ]
  },
  {
   "cell_type": "code",
   "execution_count": 5,
   "id": "b8634ca5",
   "metadata": {},
   "outputs": [
    {
     "data": {
      "text/plain": [
       "<BarContainer object of 4 artists>"
      ]
     },
     "execution_count": 5,
     "metadata": {},
     "output_type": "execute_result"
    },
    {
     "data": {
      "image/png": "[encoded data removed]",
      "text/plain": [
       "<Figure size 432x288 with 1 Axes>"
      ]
     },
     "metadata": {
      "needs_background": "light"
     },
     "output_type": "display_data"
    }
   ],
   "source": [
    "plt.bar(x,cdf)"
   ]
  },
  {
   "cell_type": "code",
   "execution_count": 6,
   "id": "71abe25a",
   "metadata": {},
   "outputs": [
    {
     "data": {
      "text/plain": [
       "array([0, 1, 2, 3])"
      ]
     },
     "execution_count": 6,
     "metadata": {},
     "output_type": "execute_result"
    }
   ],
   "source": [
    "x"
   ]
  },
  {
   "cell_type": "code",
   "execution_count": 7,
   "id": "e4042cc8",
   "metadata": {},
   "outputs": [
    {
     "data": {
      "text/plain": [
       "array([-1,  0,  1,  2])"
      ]
     },
     "execution_count": 7,
     "metadata": {},
     "output_type": "execute_result"
    }
   ],
   "source": [
    "x-1"
   ]
  },
  {
   "cell_type": "code",
   "execution_count": 9,
   "id": "caefebce",
   "metadata": {},
   "outputs": [
    {
     "data": {
      "text/plain": [
       "array([0.875, 0.5  , 0.125, 0.   ])"
      ]
     },
     "execution_count": 9,
     "metadata": {},
     "output_type": "execute_result"
    }
   ],
   "source": [
    "sf = st.binom.sf(x,n,p)\n",
    "sf"
   ]
  },
  {
   "cell_type": "code",
   "execution_count": 8,
   "id": "56fa6746",
   "metadata": {},
   "outputs": [
    {
     "data": {
      "text/plain": [
       "array([1.   , 0.875, 0.5  , 0.125])"
      ]
     },
     "execution_count": 8,
     "metadata": {},
     "output_type": "execute_result"
    }
   ],
   "source": [
    "sf = st.binom.sf(x-1,n,p)\n",
    "sf"
   ]
  },
  {
   "cell_type": "code",
   "execution_count": 15,
   "id": "b364157e",
   "metadata": {},
   "outputs": [
    {
     "data": {
      "text/plain": [
       "<BarContainer object of 4 artists>"
      ]
     },
     "execution_count": 15,
     "metadata": {},
     "output_type": "execute_result"
    },
    {
     "data": {
      "image/png": "[encoded data removed]",
      "text/plain": [
       "<Figure size 432x288 with 1 Axes>"
      ]
     },
     "metadata": {
      "needs_background": "light"
     },
     "output_type": "display_data"
    }
   ],
   "source": [
    "plt.bar(x,sf)"
   ]
  },
  {
   "cell_type": "code",
   "execution_count": 16,
   "id": "4cdf0b83",
   "metadata": {},
   "outputs": [
    {
     "data": {
      "text/plain": [
       "(array(1.5), array(0.75))"
      ]
     },
     "execution_count": 16,
     "metadata": {},
     "output_type": "execute_result"
    }
   ],
   "source": [
    "## Expected value = np = 3*0.5 = 1.5\n",
    "## variance = npq = 3*0.5*0.5 = 0.75\n",
    "st.binom.stats(n,p)"
   ]
  },
  {
   "cell_type": "code",
   "execution_count": 17,
   "id": "2ec99aba",
   "metadata": {},
   "outputs": [
    {
     "data": {
      "text/plain": [
       "0.17619705200195293"
      ]
     },
     "execution_count": 17,
     "metadata": {},
     "output_type": "execute_result"
    }
   ],
   "source": [
    "## When you toss a coin 20 times what is the prob that you get 10 heads?\n",
    "n= 20\n",
    "p = 0.5\n",
    "st.binom.pmf(10,20,0.5)"
   ]
  },
  {
   "cell_type": "code",
   "execution_count": 19,
   "id": "23a62278",
   "metadata": {},
   "outputs": [],
   "source": [
    "x= np.arange(0,50)\n",
    "n= 50\n",
    "p= 0.3\n",
    "pmf_x= st.binom.pmf(x,n,p)"
   ]
  },
  {
   "cell_type": "code",
   "execution_count": 20,
   "id": "4ae62ced",
   "metadata": {},
   "outputs": [
    {
     "data": {
      "text/plain": [
       "<BarContainer object of 50 artists>"
      ]
     },
     "execution_count": 20,
     "metadata": {},
     "output_type": "execute_result"
    },
    {
     "data": {
      "image/png": "[encoded data removed]",
      "text/plain": [
       "<Figure size 432x288 with 1 Axes>"
      ]
     },
     "metadata": {
      "needs_background": "light"
     },
     "output_type": "display_data"
    }
   ],
   "source": [
    "plt.bar(x,pmf_x)"
   ]
  },
  {
   "cell_type": "markdown",
   "id": "dc2b1881",
   "metadata": {},
   "source": [
    "In a shooting academy, data was collected on the precision shooting of a student. From 15 shots fired 11 were on target. Considering the same student, what is the probability that out of 50 shots fired, exactly 35 will hit the target"
   ]
  },
  {
   "cell_type": "code",
   "execution_count": 24,
   "id": "93549ce7",
   "metadata": {},
   "outputs": [
    {
     "data": {
      "text/plain": [
       "0.10651812440300812"
      ]
     },
     "execution_count": 24,
     "metadata": {},
     "output_type": "execute_result"
    }
   ],
   "source": [
    "p = 11/15\n",
    "n= 50\n",
    "x= 35\n",
    "st.binom.pmf(x,n,p)\n",
    "# st.binom.pmf(35,50,0.5)"
   ]
  },
  {
   "cell_type": "code",
   "execution_count": 23,
   "id": "e5fd8a0d",
   "metadata": {},
   "outputs": [
    {
     "data": {
      "text/plain": [
       "0.7333333333333333"
      ]
     },
     "execution_count": 23,
     "metadata": {},
     "output_type": "execute_result"
    }
   ],
   "source": [
    "p"
   ]
  },
  {
   "cell_type": "code",
   "execution_count": 25,
   "id": "f60e3b22",
   "metadata": {},
   "outputs": [
    {
     "data": {
      "text/plain": [
       "0.10651812440300812"
      ]
     },
     "execution_count": 25,
     "metadata": {},
     "output_type": "execute_result"
    }
   ],
   "source": [
    "st.binom.pmf(x,n,p)"
   ]
  },
  {
   "cell_type": "code",
   "execution_count": null,
   "id": "867eadc2",
   "metadata": {},
   "outputs": [],
   "source": [
    "## The probability that 35 shots hit the target out of 50 is 10.65%\n",
    "## 50c35*(p)^35(1-p)^15"
   ]
  },
  {
   "cell_type": "code",
   "execution_count": 26,
   "id": "356d409c",
   "metadata": {},
   "outputs": [
    {
     "data": {
      "text/plain": [
       "0.9998769453353011"
      ]
     },
     "execution_count": 26,
     "metadata": {},
     "output_type": "execute_result"
    }
   ],
   "source": [
    "# cdf ----> cumulative distribution function \n",
    "# syntax ---> cdf(k,n,p) = P(X <= k)\n",
    "# sf -----> survival function\n",
    "# syntax ---> sf(k, n, p) = P(X > k)\n",
    "\n",
    "# cdf or sf returns the probability value\n",
    "\n",
    "\n",
    "\n",
    "## What is the probability atleast 25 shots hit the target?\n",
    "## n=50, p=0.5\n",
    "## P(X >= 25) = 1 - P(X<= 24) = 1 - cdf(24, 50, 0.5)\n",
    "## P(X >= 25) =P(X > 24) = sf(24,50,0.5)\n",
    "\n",
    "\n",
    "\n",
    "## P(x>=25) = 1- p(x<25)\n",
    "x=25\n",
    "st.binom.sf(x-1,n,p)"
   ]
  },
  {
   "cell_type": "code",
   "execution_count": 27,
   "id": "44adbd41",
   "metadata": {},
   "outputs": [
    {
     "data": {
      "text/plain": [
       "0.9998769453353011"
      ]
     },
     "execution_count": 27,
     "metadata": {},
     "output_type": "execute_result"
    }
   ],
   "source": [
    "1- st.binom.cdf(24,n,p)"
   ]
  },
  {
   "cell_type": "code",
   "execution_count": null,
   "id": "5f9ff3ea",
   "metadata": {},
   "outputs": [],
   "source": []
  },
  {
   "cell_type": "markdown",
   "id": "590ba314",
   "metadata": {},
   "source": [
    "##  POISSON DISTRIBUTION"
   ]
  },
  {
   "cell_type": "markdown",
   "id": "6846c820",
   "metadata": {},
   "source": [
    "## In a super market , on an average 35 people visits per day. What is the probability that 100 people visits in a given day?"
   ]
  },
  {
   "cell_type": "code",
   "execution_count": 10,
   "id": "a4d3b48e",
   "metadata": {},
   "outputs": [
    {
     "data": {
      "text/plain": [
       "1.7238279327394187e-19"
      ]
     },
     "execution_count": 10,
     "metadata": {},
     "output_type": "execute_result"
    }
   ],
   "source": [
    "lamda= 35\n",
    "x=100\n",
    "st.poisson.pmf(x,lamda)"
   ]
  },
  {
   "cell_type": "markdown",
   "id": "7cee830c",
   "metadata": {},
   "source": [
    "## p(x=100)=? = e**-(35)*35**100/100!"
   ]
  },
  {
   "cell_type": "code",
   "execution_count": 11,
   "id": "c74d4ac5",
   "metadata": {},
   "outputs": [
    {
     "data": {
      "text/plain": [
       "1.7238279327394187e-19"
      ]
     },
     "execution_count": 11,
     "metadata": {},
     "output_type": "execute_result"
    }
   ],
   "source": [
    "st.poisson.pmf(100,35)"
   ]
  },
  {
   "cell_type": "code",
   "execution_count": 13,
   "id": "7d0c425a",
   "metadata": {},
   "outputs": [
    {
     "data": {
      "text/plain": [
       "2.630905972118124e-19"
      ]
     },
     "execution_count": 13,
     "metadata": {},
     "output_type": "execute_result"
    }
   ],
   "source": [
    "## What is the prob that 100 or more people visits on a given day\n",
    "\n",
    "## P(X >= 100)\n",
    "x = 100\n",
    "l = 35 # lambda\n",
    "st.poisson.sf(x-1,l)"
   ]
  },
  {
   "cell_type": "code",
   "execution_count": 34,
   "id": "a93c6ae3",
   "metadata": {},
   "outputs": [
    {
     "data": {
      "text/plain": [
       "<BarContainer object of 100 artists>"
      ]
     },
     "execution_count": 34,
     "metadata": {},
     "output_type": "execute_result"
    },
    {
     "data": {
      "image/png": "[encoded data removed]",
      "text/plain": [
       "<Figure size 432x288 with 1 Axes>"
      ]
     },
     "metadata": {
      "needs_background": "light"
     },
     "output_type": "display_data"
    }
   ],
   "source": [
    "x = np.arange(0,100)\n",
    "pmf= st.poisson.pmf(x,lamda)\n",
    "plt.bar(x,pmf)"
   ]
  },
  {
   "cell_type": "code",
   "execution_count": 35,
   "id": "231a0d50",
   "metadata": {},
   "outputs": [
    {
     "data": {
      "text/plain": [
       "0.06727319239963186"
      ]
     },
     "execution_count": 35,
     "metadata": {},
     "output_type": "execute_result"
    }
   ],
   "source": [
    "st.poisson.pmf(35,lamda)"
   ]
  },
  {
   "cell_type": "markdown",
   "id": "0d52abb2",
   "metadata": {},
   "source": [
    "## Normal Distribution"
   ]
  },
  {
   "cell_type": "markdown",
   "id": "4bbc0652",
   "metadata": {},
   "source": [
    "A monthly balance in the bank account of credit card holders is assumed to be normally distributed with mean $500 and variance $100. What is the probability that the balance can be more than  $513.5?\n"
   ]
  },
  {
   "cell_type": "code",
   "execution_count": 14,
   "id": "1a323342",
   "metadata": {},
   "outputs": [
    {
     "data": {
      "text/plain": [
       "0.08850799143740196"
      ]
     },
     "execution_count": 14,
     "metadata": {},
     "output_type": "execute_result"
    }
   ],
   "source": [
    "mu= 500\n",
    "var = 100\n",
    "sigma = np.sqrt(var)\n",
    "x=513.5\n",
    "st.norm.sf(x,mu,sigma)"
   ]
  },
  {
   "cell_type": "code",
   "execution_count": 37,
   "id": "8904f0e0",
   "metadata": {},
   "outputs": [],
   "source": [
    "## 8.85% of the people are having more than $ 513.5 in their accounts"
   ]
  },
  {
   "cell_type": "code",
   "execution_count": 53,
   "id": "134e44e6",
   "metadata": {},
   "outputs": [
    {
     "data": {
      "text/plain": [
       "[<matplotlib.lines.Line2D at 0x271bc298640>]"
      ]
     },
     "execution_count": 53,
     "metadata": {},
     "output_type": "execute_result"
    },
    {
     "data": {
      "image/png": "[encoded data removed]",
      "text/plain": [
       "<Figure size 432x288 with 1 Axes>"
      ]
     },
     "metadata": {
      "needs_background": "light"
     },
     "output_type": "display_data"
    }
   ],
   "source": [
    "x= np.arange(450,550)\n",
    "pdf= st.norm.pdf(x,mu,sigma)\n",
    "plt.plot(x,pdf)"
   ]
  },
  {
   "cell_type": "code",
   "execution_count": 54,
   "id": "3c400adc",
   "metadata": {},
   "outputs": [
    {
     "name": "stderr",
     "output_type": "stream",
     "text": [
      "C:\\Users\\malli\\anaconda3\\lib\\site-packages\\seaborn\\_decorators.py:36: FutureWarning: Pass the following variables as keyword args: x, y. From version 0.12, the only valid positional argument will be `data`, and passing other arguments without an explicit keyword will result in an error or misinterpretation.\n",
      "  warnings.warn(\n"
     ]
    },
    {
     "data": {
      "text/plain": [
       "<AxesSubplot:>"
      ]
     },
     "execution_count": 54,
     "metadata": {},
     "output_type": "execute_result"
    },
    {
     "data": {
      "image/png": "[encoded data removed]",
      "text/plain": [
       "<Figure size 432x288 with 1 Axes>"
      ]
     },
     "metadata": {
      "needs_background": "light"
     },
     "output_type": "display_data"
    }
   ],
   "source": [
    "sn.lineplot(x,pdf)"
   ]
  },
  {
   "cell_type": "code",
   "execution_count": 56,
   "id": "202564c0",
   "metadata": {},
   "outputs": [
    {
     "data": {
      "text/plain": [
       "0.15865525393145707"
      ]
     },
     "execution_count": 56,
     "metadata": {},
     "output_type": "execute_result"
    }
   ],
   "source": [
    "## What is the probability that balance can be less than 490$?\n",
    "st.norm.cdf(490,mu,sigma)"
   ]
  },
  {
   "cell_type": "code",
   "execution_count": 57,
   "id": "b8e1134f",
   "metadata": {},
   "outputs": [
    {
     "data": {
      "text/plain": [
       "0.6826894921370859"
      ]
     },
     "execution_count": 57,
     "metadata": {},
     "output_type": "execute_result"
    }
   ],
   "source": [
    "## mu+- 1 sigma ( 490 to 510) ## using cdf\n",
    "st.norm.cdf(510,mu,sigma)-st.norm.cdf(490,mu,sigma)"
   ]
  },
  {
   "cell_type": "code",
   "execution_count": 58,
   "id": "5c6aa1f7",
   "metadata": {},
   "outputs": [
    {
     "data": {
      "text/plain": [
       "0.6826894921370859"
      ]
     },
     "execution_count": 58,
     "metadata": {},
     "output_type": "execute_result"
    }
   ],
   "source": [
    "## using sf function\n",
    "st.norm.sf(490,mu,sigma)-st.norm.sf(510,mu,sigma)"
   ]
  },
  {
   "cell_type": "code",
   "execution_count": 59,
   "id": "980c37b8",
   "metadata": {},
   "outputs": [
    {
     "data": {
      "text/plain": [
       "0.9544997361036416"
      ]
     },
     "execution_count": 59,
     "metadata": {},
     "output_type": "execute_result"
    }
   ],
   "source": [
    "## mu+- 2 sigma ( 480 to 520) ## using cdf\n",
    "st.norm.cdf(520,mu,sigma)-st.norm.cdf(480,mu,sigma)"
   ]
  },
  {
   "cell_type": "code",
   "execution_count": 60,
   "id": "6f6d409e",
   "metadata": {},
   "outputs": [
    {
     "data": {
      "text/plain": [
       "0.9544997361036416"
      ]
     },
     "execution_count": 60,
     "metadata": {},
     "output_type": "execute_result"
    }
   ],
   "source": [
    "## using sf\n",
    "st.norm.sf(480,mu,sigma)-st.norm.sf(520,mu,sigma)"
   ]
  },
  {
   "cell_type": "code",
   "execution_count": 61,
   "id": "179ed922",
   "metadata": {},
   "outputs": [
    {
     "data": {
      "text/plain": [
       "0.9973002039367398"
      ]
     },
     "execution_count": 61,
     "metadata": {},
     "output_type": "execute_result"
    }
   ],
   "source": [
    "## mu+- 3 sigma ( 470 to 530) ## using cdf\n",
    "st.norm.cdf(530,mu,sigma)-st.norm.cdf(470,mu,sigma)"
   ]
  },
  {
   "cell_type": "code",
   "execution_count": 62,
   "id": "fb278647",
   "metadata": {},
   "outputs": [
    {
     "data": {
      "text/plain": [
       "0.9973002039367398"
      ]
     },
     "execution_count": 62,
     "metadata": {},
     "output_type": "execute_result"
    }
   ],
   "source": [
    "## using sf\n",
    "st.norm.sf(470,mu,sigma)-st.norm.sf(530,mu,sigma)"
   ]
  },
  {
   "cell_type": "code",
   "execution_count": 15,
   "id": "2f30b2c8",
   "metadata": {},
   "outputs": [
    {
     "data": {
      "text/plain": [
       "0.6826894921370859"
      ]
     },
     "execution_count": 15,
     "metadata": {},
     "output_type": "execute_result"
    }
   ],
   "source": [
    "## Standard Normal Distribution\n",
    "## z= +- 1 ## using cdf\n",
    "## mu = 0 or loc = 0\n",
    "## sigma = 1 or scale = 1\n",
    "## st.norm.cdf(1,mu,sigma) - st.norm.cdf(-1,mu,sigma)\n",
    "st.norm.cdf(1)-st.norm.cdf(-1)"
   ]
  },
  {
   "cell_type": "code",
   "execution_count": 66,
   "id": "7cfbf058",
   "metadata": {},
   "outputs": [
    {
     "data": {
      "text/plain": [
       "0.9544997361036416"
      ]
     },
     "execution_count": 66,
     "metadata": {},
     "output_type": "execute_result"
    }
   ],
   "source": [
    "## z= +- 2 ## using cdf\n",
    "st.norm.cdf(2)-st.norm.cdf(-2)"
   ]
  },
  {
   "cell_type": "code",
   "execution_count": 67,
   "id": "41d7223c",
   "metadata": {},
   "outputs": [
    {
     "data": {
      "text/plain": [
       "0.9973002039367398"
      ]
     },
     "execution_count": 67,
     "metadata": {},
     "output_type": "execute_result"
    }
   ],
   "source": [
    "## z= +- 3 ## using cdf\n",
    "st.norm.cdf(3)-st.norm.cdf(-3)"
   ]
  },
  {
   "cell_type": "code",
   "execution_count": 73,
   "id": "82dcb07e",
   "metadata": {},
   "outputs": [
    {
     "name": "stdout",
     "output_type": "stream",
     "text": [
      "p(z=+-1)= 0.6826894921370859 \n",
      "\n",
      "p(z=+-2) = 0.9544997361036416 \n",
      "\n",
      "p(z=+-3) = 0.9973002039367398\n"
     ]
    }
   ],
   "source": [
    "## using sf \n",
    "print(\"p(z=+-1)=\",st.norm.sf(-1)-st.norm.sf(1),'\\n')\n",
    "print(\"p(z=+-2) =\",st.norm.sf(-2)-st.norm.sf(2),'\\n')\n",
    "print(\"p(z=+-3) =\",st.norm.sf(-3)-st.norm.sf(3))"
   ]
  },
  {
   "cell_type": "code",
   "execution_count": 74,
   "id": "985b9095",
   "metadata": {},
   "outputs": [],
   "source": [
    "## Usage of PPF (Point Percentile Function) and ISF( Inverse Survival Function)\n",
    "\n",
    "# cdf ----> cumulative distribution function \n",
    "# syntax ---> cdf(k,n,p) = P(X <= k)\n",
    "# sf -----> survival function\n",
    "# syntax ---> sf(k, n, p) = P(X > k)\n",
    "\n",
    "# cdf or sf returns the probability value\n",
    "\n",
    "# isf ---> Inverse Survival Function\n",
    "# syntax ----> isf(q,n,p)\n",
    "# isf returns a discrete value that is greater than or equal to the given prob\n",
    "# isf(q, n, p) --> P(X > ? ) = q\n",
    "\n",
    "# ppf ---> (Point Percentile Function)\n",
    "# ppf returns a discrete value that is less than or equal to the given prob\n",
    "# ppf(q, n, p) --> P(X <= ? ) = q"
   ]
  },
  {
   "cell_type": "code",
   "execution_count": 75,
   "id": "71b0199d",
   "metadata": {},
   "outputs": [
    {
     "data": {
      "text/plain": [
       "513.5"
      ]
     },
     "execution_count": 75,
     "metadata": {},
     "output_type": "execute_result"
    }
   ],
   "source": [
    "st.norm.isf(0.08850799143740196,mu,sigma)"
   ]
  },
  {
   "cell_type": "code",
   "execution_count": 76,
   "id": "d60d7fc2",
   "metadata": {},
   "outputs": [
    {
     "data": {
      "text/plain": [
       "490.0"
      ]
     },
     "execution_count": 76,
     "metadata": {},
     "output_type": "execute_result"
    }
   ],
   "source": [
    "st.norm.ppf(0.15865525393145707,mu,sigma)"
   ]
  },
  {
   "cell_type": "code",
   "execution_count": 77,
   "id": "8ecac164",
   "metadata": {},
   "outputs": [
    {
     "data": {
      "text/plain": [
       "-1.0"
      ]
     },
     "execution_count": 77,
     "metadata": {},
     "output_type": "execute_result"
    }
   ],
   "source": [
    "x= 490\n",
    "z= (x-mu)/sigma\n",
    "z"
   ]
  },
  {
   "cell_type": "code",
   "execution_count": 78,
   "id": "b1dc59f5",
   "metadata": {},
   "outputs": [
    {
     "data": {
      "text/plain": [
       "-1.0"
      ]
     },
     "execution_count": 78,
     "metadata": {},
     "output_type": "execute_result"
    }
   ],
   "source": [
    "st.norm.ppf(0.15865525393145707)"
   ]
  },
  {
   "cell_type": "code",
   "execution_count": 79,
   "id": "19cfe782",
   "metadata": {},
   "outputs": [
    {
     "data": {
      "text/plain": [
       "1.35"
      ]
     },
     "execution_count": 79,
     "metadata": {},
     "output_type": "execute_result"
    }
   ],
   "source": [
    "x1= 513.5\n",
    "z1 = (x1-mu)/sigma\n",
    "z1"
   ]
  },
  {
   "cell_type": "code",
   "execution_count": 80,
   "id": "7420ac97",
   "metadata": {},
   "outputs": [
    {
     "data": {
      "text/plain": [
       "1.35"
      ]
     },
     "execution_count": 80,
     "metadata": {},
     "output_type": "execute_result"
    }
   ],
   "source": [
    "st.norm.isf(0.08850799143740196)"
   ]
  },
  {
   "cell_type": "markdown",
   "id": "a8a9d90e",
   "metadata": {},
   "source": [
    "## cdf and sf --- used to find cumulative probabilities\n",
    "\n",
    "## ppf and isf --- used to find random variable value or corresponding z values "
   ]
  },
  {
   "cell_type": "markdown",
   "id": "c003be14",
   "metadata": {},
   "source": [
    "## Simple Random Sampling ( Without replacement)\n"
   ]
  },
  {
   "cell_type": "markdown",
   "id": "ed1f677c",
   "metadata": {},
   "source": [
    "An ice-cream manufacturer wants to study the sales of ice-creams to decide the production policies of the company. He collects the data for the number of ice-creams sold in a month from the 30 franchise. Randomly select the sales of 10 franchise for the study.\n",
    "data = [21, 93, 62, 76, 73, 20, 56, 95, 41, 36, 38, 13, 80, 88, 34, 18, 40, 11, 25, 29, 61, 23, 82, 10, 92, 69, 60, 87, 14, 91]"
   ]
  },
  {
   "cell_type": "code",
   "execution_count": 16,
   "id": "64305028",
   "metadata": {},
   "outputs": [],
   "source": [
    "data = [21, 93, 62, 76, 73, 20, 56, 95, 41, 36, 38, 13, 80, 88, 34, 18, 40, 11, 25, 29, 61, 23, 82, 10, 92, 69, 60, 87, 14, 91]"
   ]
  },
  {
   "cell_type": "code",
   "execution_count": 17,
   "id": "78029105",
   "metadata": {},
   "outputs": [
    {
     "data": {
      "text/plain": [
       "30"
      ]
     },
     "execution_count": 17,
     "metadata": {},
     "output_type": "execute_result"
    }
   ],
   "source": [
    "len(data)"
   ]
  },
  {
   "cell_type": "code",
   "execution_count": 18,
   "id": "5e8138cf",
   "metadata": {},
   "outputs": [],
   "source": [
    "## SRS without replacement (SRSWOR)\n",
    "import random"
   ]
  },
  {
   "cell_type": "code",
   "execution_count": 19,
   "id": "299403f3",
   "metadata": {},
   "outputs": [
    {
     "data": {
      "text/plain": [
       "[76, 69, 36, 95, 38, 93, 60, 87, 56, 18]"
      ]
     },
     "execution_count": 19,
     "metadata": {},
     "output_type": "execute_result"
    }
   ],
   "source": [
    "sample = random.sample(data, k=10)\n",
    "sample"
   ]
  },
  {
   "cell_type": "markdown",
   "id": "f73d2858",
   "metadata": {},
   "source": [
    "## SRS with Replacement\n",
    "\n",
    "Consider 8 identical boxes that contain different number of shuttlecocks. Draw a sample of 20 boxes with replacement.\n",
    "\n",
    "data = [18, 13, 16, 17, 15, 21, 19, 12]"
   ]
  },
  {
   "cell_type": "code",
   "execution_count": 20,
   "id": "b7f36775",
   "metadata": {},
   "outputs": [],
   "source": [
    "data1 = [18, 13, 16, 17, 15, 21, 19, 12] # 8 items"
   ]
  },
  {
   "cell_type": "code",
   "execution_count": 21,
   "id": "2ed1b4c4",
   "metadata": {},
   "outputs": [
    {
     "data": {
      "text/plain": [
       "[18,\n",
       " 12,\n",
       " 12,\n",
       " 17,\n",
       " 16,\n",
       " 13,\n",
       " 12,\n",
       " 18,\n",
       " 15,\n",
       " 13,\n",
       " 21,\n",
       " 19,\n",
       " 18,\n",
       " 12,\n",
       " 16,\n",
       " 18,\n",
       " 17,\n",
       " 13,\n",
       " 13,\n",
       " 21]"
      ]
     },
     "execution_count": 21,
     "metadata": {},
     "output_type": "execute_result"
    }
   ],
   "source": [
    "sample1 = random.choices(data1, k=20) # 20 items\n",
    "sample1"
   ]
  },
  {
   "cell_type": "markdown",
   "id": "4ced33f2",
   "metadata": {},
   "source": [
    "## Stratified Sampling"
   ]
  },
  {
   "cell_type": "markdown",
   "id": "9e08082c",
   "metadata": {},
   "source": [
    "### Example:\n",
    "\n",
    "#### 1. Consider the annual income (in dollars) of 15 employees in a company. The socio-economic status of the employee depends on the annual income.\n",
    "\n",
    "<table>\n",
    "<tr>\n",
    "    <th>Status</th>\n",
    "    <td>Low</td>\n",
    "    <td>High</td>\n",
    "    <td>Below Poverty</td>\n",
    "    <td>Middle</td>\n",
    "    <td>Low</td>\n",
    "    <td>High</td>\n",
    "    <td>Middle</td>\n",
    "    <td>Low</td>\n",
    "    <td>Middle</td>\n",
    "    <td>High</td>\n",
    "    <td>Middle</td>\n",
    "    <td>Below Poverty</td>\n",
    "    <td>Low</td>\n",
    "    <td>Below Poverty</td>\n",
    "    <td>High</td>\n",
    "   </tr>\n",
    "<tr>\n",
    "    <th>Income</th>\n",
    "    <td>4850</td>\n",
    "    <td>9270</td>\n",
    "    <td>2520</td>\n",
    "    <td>6020</td>\n",
    "    <td>5790</td>\n",
    "    <td>10400</td>\n",
    "    <td>7140</td>\n",
    "    <td>3100</td>\n",
    "    <td>6850</td>\n",
    "    <td>9740</td>\n",
    "    <td>6540</td>\n",
    "    <td>1230</td>\n",
    "    <td>4400</td>\n",
    "    <td>2210</td>\n",
    "    <td>9880</td>\n",
    "    </tr>\n",
    "</table>\n",
    "\n",
    "\n",
    "Draw the stratified sample such that each category will occur twice."
   ]
  },
  {
   "cell_type": "code",
   "execution_count": 15,
   "id": "be9aa04e",
   "metadata": {},
   "outputs": [],
   "source": [
    "income = pd.DataFrame({'status':['Low', 'High', 'Below Poverty', 'Middle', 'Low', 'High','Middle', 'Low', 'Middle', \n",
    "                                      'High', 'Middle', 'Below Poverty', 'Low', 'Below Poverty', 'High'],\n",
    "                       'inc':[4850, 9270, 2520, 6020, 5790, 10400, 7140, 3100, 6850, 9740, 6540, 1230, 4400, 2210, 9880]})"
   ]
  },
  {
   "cell_type": "code",
   "execution_count": 16,
   "id": "ac03a953",
   "metadata": {},
   "outputs": [
    {
     "data": {
      "text/plain": [
       "Low              4\n",
       "Middle           4\n",
       "High             4\n",
       "Below Poverty    3\n",
       "Name: status, dtype: int64"
      ]
     },
     "execution_count": 16,
     "metadata": {},
     "output_type": "execute_result"
    }
   ],
   "source": [
    "# dataset_name.Categorical_column.value_counts()\n",
    "# frequency count of each class in the Categorical column\n",
    "\n",
    "income.status.value_counts()"
   ]
  },
  {
   "cell_type": "code",
   "execution_count": 22,
   "id": "aa7598a7",
   "metadata": {},
   "outputs": [
    {
     "data": {
      "text/html": [
       "<div>\n",
       "<style scoped>\n",
       "    .dataframe tbody tr th:only-of-type {\n",
       "        vertical-align: middle;\n",
       "    }\n",
       "\n",
       "    .dataframe tbody tr th {\n",
       "        vertical-align: top;\n",
       "    }\n",
       "\n",
       "    .dataframe thead th {\n",
       "        text-align: right;\n",
       "    }\n",
       "</style>\n",
       "<table border=\"1\" class=\"dataframe\">\n",
       "  <thead>\n",
       "    <tr style=\"text-align: right;\">\n",
       "      <th></th>\n",
       "      <th></th>\n",
       "      <th>status</th>\n",
       "      <th>inc</th>\n",
       "    </tr>\n",
       "    <tr>\n",
       "      <th>status</th>\n",
       "      <th></th>\n",
       "      <th></th>\n",
       "      <th></th>\n",
       "    </tr>\n",
       "  </thead>\n",
       "  <tbody>\n",
       "    <tr>\n",
       "      <th rowspan=\"2\" valign=\"top\">Below Poverty</th>\n",
       "      <th>13</th>\n",
       "      <td>Below Poverty</td>\n",
       "      <td>2210</td>\n",
       "    </tr>\n",
       "    <tr>\n",
       "      <th>2</th>\n",
       "      <td>Below Poverty</td>\n",
       "      <td>2520</td>\n",
       "    </tr>\n",
       "    <tr>\n",
       "      <th rowspan=\"2\" valign=\"top\">High</th>\n",
       "      <th>14</th>\n",
       "      <td>High</td>\n",
       "      <td>9880</td>\n",
       "    </tr>\n",
       "    <tr>\n",
       "      <th>1</th>\n",
       "      <td>High</td>\n",
       "      <td>9270</td>\n",
       "    </tr>\n",
       "    <tr>\n",
       "      <th rowspan=\"2\" valign=\"top\">Low</th>\n",
       "      <th>12</th>\n",
       "      <td>Low</td>\n",
       "      <td>4400</td>\n",
       "    </tr>\n",
       "    <tr>\n",
       "      <th>0</th>\n",
       "      <td>Low</td>\n",
       "      <td>4850</td>\n",
       "    </tr>\n",
       "    <tr>\n",
       "      <th rowspan=\"2\" valign=\"top\">Middle</th>\n",
       "      <th>10</th>\n",
       "      <td>Middle</td>\n",
       "      <td>6540</td>\n",
       "    </tr>\n",
       "    <tr>\n",
       "      <th>3</th>\n",
       "      <td>Middle</td>\n",
       "      <td>6020</td>\n",
       "    </tr>\n",
       "  </tbody>\n",
       "</table>\n",
       "</div>"
      ],
      "text/plain": [
       "                         status   inc\n",
       "status                               \n",
       "Below Poverty 13  Below Poverty  2210\n",
       "              2   Below Poverty  2520\n",
       "High          14           High  9880\n",
       "              1            High  9270\n",
       "Low           12            Low  4400\n",
       "              0             Low  4850\n",
       "Middle        10         Middle  6540\n",
       "              3          Middle  6020"
      ]
     },
     "execution_count": 22,
     "metadata": {},
     "output_type": "execute_result"
    }
   ],
   "source": [
    "income.groupby('status').apply(lambda x:x.sample(2, random_state=34))"
   ]
  },
  {
   "cell_type": "markdown",
   "id": "b5468844",
   "metadata": {},
   "source": [
    "## Systematic Sampling "
   ]
  },
  {
   "cell_type": "markdown",
   "id": "9ad98428",
   "metadata": {},
   "source": [
    "Consider the data for the number of ice-creams sold per day. Draw a systematic sample of size 6 starting from the 3rd element.\n",
    "data = [21, 93, 62, 76, 73, 20, 56, 95, 41, 36, 38, 13, 80, 88, 34, 18, 40, 11, 25, 29, 61, 23, 82, 10, 92, 69, 60, 87, 14, 91, 94, 49, 57, 83, 96, 55, 79, 52, 59, 39, 58, 17, 19, 98, 15, 54, 48, 46, 72, 45, 65, 28, 37, 30, 68, 75, 16, 33, 31, 99, 22, 51, 27, 67, 85, 47, 44, 77, 64, 97, 84, 42, 90, 70, 74, 89, 32, 26, 24, 12, 81, 53, 50, 35, 71, 63, 43, 86, 78, 66]"
   ]
  },
  {
   "cell_type": "code",
   "execution_count": 26,
   "id": "de6b0a7a",
   "metadata": {},
   "outputs": [],
   "source": [
    "data2 =np.array([21, 93, 62, 76, 73, 20, 56, 95, 41, 36, 38, 13, 80, 88, 34, 18, 40, 11, 25, 29, 61, 23, 82, 10, 92, 69, 60, 87, 14, 91, 94, 49, 57, 83, 96, 55, 79, 52, 59, 39, 58, 17, 19, 98, 15, 54, 48, 46, 72, 45, 65, 28, 37, 30, 68, 75, 16, 33, 31, 99, 22, 51, 27, 67, 85, 47, 44, 77, 64, 97, 84, 42, 90, 70, 74, 89, 32, 26, 24, 12, 81, 53, 50, 35, 71, 63, 43, 86, 78, 66])"
   ]
  },
  {
   "cell_type": "code",
   "execution_count": 27,
   "id": "7e525f17",
   "metadata": {},
   "outputs": [
    {
     "data": {
      "text/plain": [
       "90"
      ]
     },
     "execution_count": 27,
     "metadata": {},
     "output_type": "execute_result"
    }
   ],
   "source": [
    "len(data2)"
   ]
  },
  {
   "cell_type": "code",
   "execution_count": 29,
   "id": "4fe882eb",
   "metadata": {},
   "outputs": [
    {
     "data": {
      "text/plain": [
       "array([[21, 93, 62, 76, 73, 20, 56, 95, 41, 36, 38, 13, 80, 88, 34],\n",
       "       [18, 40, 11, 25, 29, 61, 23, 82, 10, 92, 69, 60, 87, 14, 91],\n",
       "       [94, 49, 57, 83, 96, 55, 79, 52, 59, 39, 58, 17, 19, 98, 15],\n",
       "       [54, 48, 46, 72, 45, 65, 28, 37, 30, 68, 75, 16, 33, 31, 99],\n",
       "       [22, 51, 27, 67, 85, 47, 44, 77, 64, 97, 84, 42, 90, 70, 74],\n",
       "       [89, 32, 26, 24, 12, 81, 53, 50, 35, 71, 63, 43, 86, 78, 66]])"
      ]
     },
     "execution_count": 29,
     "metadata": {},
     "output_type": "execute_result"
    }
   ],
   "source": [
    "table = data2.reshape(6,15)\n",
    "table"
   ]
  },
  {
   "cell_type": "code",
   "execution_count": 30,
   "id": "75637714",
   "metadata": {},
   "outputs": [
    {
     "data": {
      "text/plain": [
       "array([62, 11, 57, 46, 27, 26])"
      ]
     },
     "execution_count": 30,
     "metadata": {},
     "output_type": "execute_result"
    }
   ],
   "source": [
    "table[:,2]"
   ]
  },
  {
   "cell_type": "markdown",
   "id": "4d794751",
   "metadata": {},
   "source": [
    "## Cluster Sampling"
   ]
  },
  {
   "cell_type": "markdown",
   "id": "3ea7af42",
   "metadata": {},
   "source": [
    "#### 1. A pandemic had a severe impact on 17 states in a country. A health organization aims to study the situation in the impacted states. Consider each state as a cluster and use cluster sampling to select 5 states.\n",
    "\n",
    "    states = ['Arizona', 'Iowa', 'Ohio', 'Nevada', 'Texas', 'Alabama', ' Mississippi', 'Utah', 'Indiana', 'Florida', \n",
    "              'New York', 'Nebraska', 'California', 'Colorado', 'Montana', 'Oregon', 'Washington']"
   ]
  },
  {
   "cell_type": "code",
   "execution_count": 31,
   "id": "97a8c055",
   "metadata": {},
   "outputs": [],
   "source": [
    "states = ['Arizona', 'Iowa', 'Ohio', 'Nevada', 'Texas', 'Alabama', ' Mississippi', 'Utah', 'Indiana', 'Florida', \n",
    "          'New York', 'Nebraska', 'California', 'Colorado', 'Montana', 'Oregon', 'Washington']"
   ]
  },
  {
   "cell_type": "code",
   "execution_count": 32,
   "id": "46e5a520",
   "metadata": {},
   "outputs": [
    {
     "data": {
      "text/plain": [
       "['Nebraska', 'Nevada', 'Utah', ' Mississippi', 'New York']"
      ]
     },
     "execution_count": 32,
     "metadata": {},
     "output_type": "execute_result"
    }
   ],
   "source": [
    "random.sample(states, k=5)"
   ]
  },
  {
   "cell_type": "code",
   "execution_count": 34,
   "id": "4cbd0e8a",
   "metadata": {},
   "outputs": [
    {
     "data": {
      "text/plain": [
       "54.5"
      ]
     },
     "execution_count": 34,
     "metadata": {},
     "output_type": "execute_result"
    }
   ],
   "source": [
    "## Sampling Error\n",
    "pop_mean = data2.mean()\n",
    "pop_mean"
   ]
  },
  {
   "cell_type": "code",
   "execution_count": 35,
   "id": "725400cc",
   "metadata": {},
   "outputs": [
    {
     "data": {
      "text/plain": [
       "90"
      ]
     },
     "execution_count": 35,
     "metadata": {},
     "output_type": "execute_result"
    }
   ],
   "source": [
    "len(data2)"
   ]
  },
  {
   "cell_type": "code",
   "execution_count": 39,
   "id": "310fd283",
   "metadata": {},
   "outputs": [],
   "source": [
    "sample1 = random.sample(list(data2), k=20)\n",
    "xbar = np.mean(sample1)"
   ]
  },
  {
   "cell_type": "code",
   "execution_count": 41,
   "id": "bf65f732",
   "metadata": {},
   "outputs": [
    {
     "data": {
      "text/plain": [
       "3.25"
      ]
     },
     "execution_count": 41,
     "metadata": {},
     "output_type": "execute_result"
    }
   ],
   "source": [
    "sampling_error = abs(pop_mean-xbar)\n",
    "sampling_error"
   ]
  },
  {
   "cell_type": "markdown",
   "id": "d370f7f6",
   "metadata": {},
   "source": [
    "## Confidence Interval \n",
    "\n",
    "100 bags of coal were tested and had an average of 35% of ash with a standard deviation of 15%. Calculate the margin of error for a 90% confidence level. find the 95% confidence Interval ?"
   ]
  },
  {
   "cell_type": "code",
   "execution_count": 43,
   "id": "ce08dde5",
   "metadata": {},
   "outputs": [],
   "source": [
    "xbar= 0.35\n",
    "n= 100\n",
    "sigma=0.15\n",
    "alpha_me= 0.1\n",
    "alpha_ci= 0.05"
   ]
  },
  {
   "cell_type": "code",
   "execution_count": 45,
   "id": "798c32b4",
   "metadata": {},
   "outputs": [
    {
     "data": {
      "text/plain": [
       "0.02467280440427209"
      ]
     },
     "execution_count": 45,
     "metadata": {},
     "output_type": "execute_result"
    }
   ],
   "source": [
    "## Margin of Error = zalphaby2*std.Error\n",
    "se = sigma/np.sqrt(n)\n",
    "zalphaby2= st.norm.isf(alpha_me/2)\n",
    "me = zalphaby2*se\n",
    "me"
   ]
  },
  {
   "cell_type": "code",
   "execution_count": 46,
   "id": "ad2130fe",
   "metadata": {},
   "outputs": [
    {
     "name": "stdout",
     "output_type": "stream",
     "text": [
      "0.32060054023189916 0.3793994597681008\n"
     ]
    }
   ],
   "source": [
    "## 95% Conf interval \n",
    "zalphaby2_ci = st.norm.isf(alpha_ci/2)\n",
    "me_95 = zalphaby2_ci*se\n",
    "## ci = xbar(point Est) +- me\n",
    "uci = xbar+me_95\n",
    "lci = xbar-me_95\n",
    "print(lci,uci)"
   ]
  },
  {
   "cell_type": "code",
   "execution_count": 2,
   "id": "5d75a5d8",
   "metadata": {},
   "outputs": [],
   "source": [
    "## Confidence Interval"
   ]
  },
  {
   "cell_type": "markdown",
   "id": "6fc9a5d4",
   "metadata": {},
   "source": [
    "A financial firm has created 50 portfolios. From them a sample of 13 portfolios was selected, out of which 8 were found to be underperforming. Construct a 99% confidence interval to estimate the population proportion."
   ]
  },
  {
   "cell_type": "code",
   "execution_count": 8,
   "id": "da3fec05",
   "metadata": {},
   "outputs": [
    {
     "name": "stdout",
     "output_type": "stream",
     "text": [
      "0.26782280814713794 0.962946422622093\n"
     ]
    }
   ],
   "source": [
    "x= 8\n",
    "n=13\n",
    "p = 8/13\n",
    "alpha= 0.01\n",
    "se1 = np.sqrt(p*(1-p)/n)\n",
    "zalphaby2 = st.norm.isf(alpha/2)\n",
    "me1 = zalphaby2*se1\n",
    "lcl = p-me1\n",
    "ucl = p+me1\n",
    "print( lcl, ucl)"
   ]
  },
  {
   "cell_type": "code",
   "execution_count": 9,
   "id": "93c46b63",
   "metadata": {},
   "outputs": [
    {
     "data": {
      "text/plain": [
       "13.0"
      ]
     },
     "execution_count": 9,
     "metadata": {},
     "output_type": "execute_result"
    }
   ],
   "source": [
    "0.26*50"
   ]
  },
  {
   "cell_type": "code",
   "execution_count": 10,
   "id": "cf96a39b",
   "metadata": {},
   "outputs": [
    {
     "data": {
      "text/plain": [
       "48.0"
      ]
     },
     "execution_count": 10,
     "metadata": {},
     "output_type": "execute_result"
    }
   ],
   "source": [
    "0.96*50"
   ]
  },
  {
   "cell_type": "code",
   "execution_count": null,
   "id": "7c341eca",
   "metadata": {},
   "outputs": [],
   "source": [
    "## population prortion lies between 26.78% to 96.29% with 99% confidence level\n",
    "## 13 to 48 portofoios have underperofomred.with 99% confidence level\n"
   ]
  },
  {
   "cell_type": "code",
   "execution_count": 11,
   "id": "f81347ee",
   "metadata": {},
   "outputs": [],
   "source": [
    "from statsmodels.stats.proportion import proportion_confint"
   ]
  },
  {
   "cell_type": "code",
   "execution_count": 12,
   "id": "445ddee3",
   "metadata": {},
   "outputs": [
    {
     "data": {
      "text/plain": [
       "(0.26782280814713794, 0.962946422622093)"
      ]
     },
     "execution_count": 12,
     "metadata": {},
     "output_type": "execute_result"
    }
   ],
   "source": [
    "proportion_confint(x,n,alpha=alpha)"
   ]
  },
  {
   "cell_type": "code",
   "execution_count": null,
   "id": "ecfc05f9",
   "metadata": {},
   "outputs": [],
   "source": []
  }
 ],
 "metadata": {
  "kernelspec": {
   "display_name": "Python 3",
   "language": "python",
   "name": "python3"
  },
  "language_info": {
   "codemirror_mode": {
    "name": "ipython",
    "version": 3
   },
   "file_extension": ".py",
   "mimetype": "text/x-python",
   "name": "python",
   "nbconvert_exporter": "python",
   "pygments_lexer": "ipython3",
   "version": "3.8.8"
  }
 },
 "nbformat": 4,
 "nbformat_minor": 5
}
